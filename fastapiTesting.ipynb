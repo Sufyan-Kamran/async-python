{
 "cells": [
  {
   "cell_type": "code",
   "execution_count": 46,
   "metadata": {},
   "outputs": [
    {
     "ename": "TypeError",
     "evalue": "WebDriver.get() got an unexpected keyword argument 'proxies'",
     "output_type": "error",
     "traceback": [
      "\u001b[1;31m---------------------------------------------------------------------------\u001b[0m",
      "\u001b[1;31mTypeError\u001b[0m                                 Traceback (most recent call last)",
      "Cell \u001b[1;32mIn[46], line 12\u001b[0m\n\u001b[0;32m      6\u001b[0m driver \u001b[38;5;241m=\u001b[39m webdriver\u001b[38;5;241m.\u001b[39mEdge(service\u001b[38;5;241m=\u001b[39mservice)\n\u001b[0;32m      7\u001b[0m proxy \u001b[38;5;241m=\u001b[39m {\n\u001b[0;32m      8\u001b[0m      \n\u001b[0;32m      9\u001b[0m      \u001b[38;5;124m\"\u001b[39m\u001b[38;5;124mhttps\u001b[39m\u001b[38;5;124m\"\u001b[39m: \u001b[38;5;124m\"\u001b[39m\u001b[38;5;124m20.111.54.16.8123\u001b[39m\u001b[38;5;124m\"\u001b[39m,\n\u001b[0;32m     10\u001b[0m      \u001b[38;5;124m\"\u001b[39m\u001b[38;5;124mhttps\u001b[39m\u001b[38;5;124m\"\u001b[39m: \u001b[38;5;124m\"\u001b[39m\u001b[38;5;124m20.205.61.143.80\u001b[39m\u001b[38;5;124m\"\u001b[39m,\n\u001b[0;32m     11\u001b[0m }\n\u001b[1;32m---> 12\u001b[0m \u001b[43mdriver\u001b[49m\u001b[38;5;241;43m.\u001b[39;49m\u001b[43mget\u001b[49m\u001b[43m(\u001b[49m\u001b[38;5;124;43m\"\u001b[39;49m\u001b[38;5;124;43mhttps://www.google.com\u001b[39;49m\u001b[38;5;124;43m\"\u001b[39;49m\u001b[43m,\u001b[49m\u001b[43mproxies\u001b[49m\u001b[38;5;241;43m=\u001b[39;49m\u001b[43mproxy\u001b[49m\u001b[43m)\u001b[49m\n",
      "\u001b[1;31mTypeError\u001b[0m: WebDriver.get() got an unexpected keyword argument 'proxies'"
     ]
    }
   ],
   "source": [
    "import requests\n",
    "from selenium import webdriver\n",
    "from selenium.webdriver.edge.service import Service\n",
    "\n",
    "service = Service(\"msedgedriver.exe\")\n",
    "driver = webdriver.Edge(service=service)\n",
    "proxy = {\n",
    "     \n",
    "     \"https\": \"20.111.54.16.8123\",\n",
    "     \"https\": \"20.205.61.143.80\",\n",
    "}\n",
    "driver.get(\"https://www.google.com\",proxies=proxy)\n"
   ]
  },
  {
   "cell_type": "code",
   "execution_count": null,
   "metadata": {},
   "outputs": [],
   "source": [
    "from selenium.webdriver.common.by import By\n",
    "element = driver.find_element(By.ID, \"APjFqb\")\n",
    "element.clear()\n",
    "element.send_keys(\"Sufyan Ahmed\")\n",
    "element.submit()\n"
   ]
  },
  {
   "cell_type": "code",
   "execution_count": 2,
   "metadata": {},
   "outputs": [
    {
     "name": "stdout",
     "output_type": "stream",
     "text": [
      "this code is start running.\n"
     ]
    }
   ],
   "source": [
    "from selenium import webdriver\n",
    "from selenium.webdriver.common.by import By\n",
    "from selenium.webdriver.edge.service import Service\n",
    "from selenium.webdriver.support.ui import WebDriverWait\n",
    "from selenium.webdriver.support import expected_conditions as EC\n",
    "service = Service(\"msedgedriver.exe\")\n",
    "\n",
    "driver = webdriver.Edge(service=service)\n",
    "driver.get('https://www.svgator.com/blog/website-animation-examples-and-effects/')\n",
    "print('this code is start running.')\n",
    "#wait = WebDriverWait(driver,10)\n",
    "#element = wait.until(EC.presence_of_element_located((By.ID,'ePeflQ9tCqG63')))\n",
    "#print(element)"
   ]
  },
  {
   "cell_type": "code",
   "execution_count": 8,
   "metadata": {},
   "outputs": [
    {
     "ename": "NoSuchElementException",
     "evalue": "Message: no such element: Unable to locate element: {\"method\":\"xpath\",\"selector\":\"//path[@id='eEc3pd17wrs3']\"}\n  (Session info: MicrosoftEdge=133.0.3065.59); For documentation on this error, please visit: https://www.selenium.dev/documentation/webdriver/troubleshooting/errors#no-such-element-exception\nStacktrace:\n\tGetHandleVerifier [0x00007FF7A079E6D5+13397]\n\tMicrosoft::Applications::Events::EventProperty::empty [0x00007FF7A0A2B174+2060308]\n\tMicrosoft::Applications::Events::EventProperty::empty [0x00007FF7A09822D8+1368440]\n\t(No symbol) [0x00007FF7A0573219]\n\t(No symbol) [0x00007FF7A057340B]\n\t(No symbol) [0x00007FF7A05B4057]\n\t(No symbol) [0x00007FF7A059420F]\n\t(No symbol) [0x00007FF7A05695BD]\n\t(No symbol) [0x00007FF7A05B1B70]\n\t(No symbol) [0x00007FF7A0593F33]\n\t(No symbol) [0x00007FF7A0568B06]\n\t(No symbol) [0x00007FF7A0567DC0]\n\t(No symbol) [0x00007FF7A0568933]\n\t(No symbol) [0x00007FF7A05F0184]\n\t(No symbol) [0x00007FF7A068063F]\n\t(No symbol) [0x00007FF7A05F39C3]\n\tMicrosoft::Applications::Events::EventProperty::to_string [0x00007FF7A0AE457D+279981]\n\tsimdutf::get_active_implementation [0x00007FF7A07277D1+409489]\n\tsimdutf::get_active_implementation [0x00007FF7A0722AB4+389748]\n\tsimdutf::get_active_implementation [0x00007FF7A0722BF9+390073]\n\tsimdutf::get_active_implementation [0x00007FF7A07161F6+338358]\n\tBaseThreadInitThunk [0x00007FF9A6C77374+20]\n\tRtlUserThreadStart [0x00007FF9A809CC91+33]\n",
     "output_type": "error",
     "traceback": [
      "\u001b[1;31m---------------------------------------------------------------------------\u001b[0m",
      "\u001b[1;31mNoSuchElementException\u001b[0m                    Traceback (most recent call last)",
      "Cell \u001b[1;32mIn[8], line 1\u001b[0m\n\u001b[1;32m----> 1\u001b[0m element \u001b[38;5;241m=\u001b[39m  \u001b[43mdriver\u001b[49m\u001b[38;5;241;43m.\u001b[39;49m\u001b[43mfind_element\u001b[49m\u001b[43m(\u001b[49m\u001b[43mBy\u001b[49m\u001b[38;5;241;43m.\u001b[39;49m\u001b[43mXPATH\u001b[49m\u001b[43m,\u001b[49m\u001b[43m \u001b[49m\u001b[38;5;124;43m\"\u001b[39;49m\u001b[38;5;124;43m//path[@id=\u001b[39;49m\u001b[38;5;124;43m'\u001b[39;49m\u001b[38;5;124;43meEc3pd17wrs3\u001b[39;49m\u001b[38;5;124;43m'\u001b[39;49m\u001b[38;5;124;43m]\u001b[39;49m\u001b[38;5;124;43m\"\u001b[39;49m\u001b[43m)\u001b[49m \n",
      "File \u001b[1;32mc:\\Users\\sufyan.ahmed\\Desktop\\asyncio Flask\\env\\Lib\\site-packages\\selenium\\webdriver\\remote\\webdriver.py:888\u001b[0m, in \u001b[0;36mWebDriver.find_element\u001b[1;34m(self, by, value)\u001b[0m\n\u001b[0;32m    885\u001b[0m         \u001b[38;5;28;01mraise\u001b[39;00m NoSuchElementException(\u001b[38;5;124mf\u001b[39m\u001b[38;5;124m\"\u001b[39m\u001b[38;5;124mCannot locate relative element with: \u001b[39m\u001b[38;5;132;01m{\u001b[39;00mby\u001b[38;5;241m.\u001b[39mroot\u001b[38;5;132;01m}\u001b[39;00m\u001b[38;5;124m\"\u001b[39m)\n\u001b[0;32m    886\u001b[0m     \u001b[38;5;28;01mreturn\u001b[39;00m elements[\u001b[38;5;241m0\u001b[39m]\n\u001b[1;32m--> 888\u001b[0m \u001b[38;5;28;01mreturn\u001b[39;00m \u001b[38;5;28;43mself\u001b[39;49m\u001b[38;5;241;43m.\u001b[39;49m\u001b[43mexecute\u001b[49m\u001b[43m(\u001b[49m\u001b[43mCommand\u001b[49m\u001b[38;5;241;43m.\u001b[39;49m\u001b[43mFIND_ELEMENT\u001b[49m\u001b[43m,\u001b[49m\u001b[43m \u001b[49m\u001b[43m{\u001b[49m\u001b[38;5;124;43m\"\u001b[39;49m\u001b[38;5;124;43musing\u001b[39;49m\u001b[38;5;124;43m\"\u001b[39;49m\u001b[43m:\u001b[49m\u001b[43m \u001b[49m\u001b[43mby\u001b[49m\u001b[43m,\u001b[49m\u001b[43m \u001b[49m\u001b[38;5;124;43m\"\u001b[39;49m\u001b[38;5;124;43mvalue\u001b[39;49m\u001b[38;5;124;43m\"\u001b[39;49m\u001b[43m:\u001b[49m\u001b[43m \u001b[49m\u001b[43mvalue\u001b[49m\u001b[43m}\u001b[49m\u001b[43m)\u001b[49m[\u001b[38;5;124m\"\u001b[39m\u001b[38;5;124mvalue\u001b[39m\u001b[38;5;124m\"\u001b[39m]\n",
      "File \u001b[1;32mc:\\Users\\sufyan.ahmed\\Desktop\\asyncio Flask\\env\\Lib\\site-packages\\selenium\\webdriver\\remote\\webdriver.py:429\u001b[0m, in \u001b[0;36mWebDriver.execute\u001b[1;34m(self, driver_command, params)\u001b[0m\n\u001b[0;32m    427\u001b[0m response \u001b[38;5;241m=\u001b[39m \u001b[38;5;28mself\u001b[39m\u001b[38;5;241m.\u001b[39mcommand_executor\u001b[38;5;241m.\u001b[39mexecute(driver_command, params)\n\u001b[0;32m    428\u001b[0m \u001b[38;5;28;01mif\u001b[39;00m response:\n\u001b[1;32m--> 429\u001b[0m     \u001b[38;5;28;43mself\u001b[39;49m\u001b[38;5;241;43m.\u001b[39;49m\u001b[43merror_handler\u001b[49m\u001b[38;5;241;43m.\u001b[39;49m\u001b[43mcheck_response\u001b[49m\u001b[43m(\u001b[49m\u001b[43mresponse\u001b[49m\u001b[43m)\u001b[49m\n\u001b[0;32m    430\u001b[0m     response[\u001b[38;5;124m\"\u001b[39m\u001b[38;5;124mvalue\u001b[39m\u001b[38;5;124m\"\u001b[39m] \u001b[38;5;241m=\u001b[39m \u001b[38;5;28mself\u001b[39m\u001b[38;5;241m.\u001b[39m_unwrap_value(response\u001b[38;5;241m.\u001b[39mget(\u001b[38;5;124m\"\u001b[39m\u001b[38;5;124mvalue\u001b[39m\u001b[38;5;124m\"\u001b[39m, \u001b[38;5;28;01mNone\u001b[39;00m))\n\u001b[0;32m    431\u001b[0m     \u001b[38;5;28;01mreturn\u001b[39;00m response\n",
      "File \u001b[1;32mc:\\Users\\sufyan.ahmed\\Desktop\\asyncio Flask\\env\\Lib\\site-packages\\selenium\\webdriver\\remote\\errorhandler.py:232\u001b[0m, in \u001b[0;36mErrorHandler.check_response\u001b[1;34m(self, response)\u001b[0m\n\u001b[0;32m    230\u001b[0m         alert_text \u001b[38;5;241m=\u001b[39m value[\u001b[38;5;124m\"\u001b[39m\u001b[38;5;124malert\u001b[39m\u001b[38;5;124m\"\u001b[39m]\u001b[38;5;241m.\u001b[39mget(\u001b[38;5;124m\"\u001b[39m\u001b[38;5;124mtext\u001b[39m\u001b[38;5;124m\"\u001b[39m)\n\u001b[0;32m    231\u001b[0m     \u001b[38;5;28;01mraise\u001b[39;00m exception_class(message, screen, stacktrace, alert_text)  \u001b[38;5;66;03m# type: ignore[call-arg]  # mypy is not smart enough here\u001b[39;00m\n\u001b[1;32m--> 232\u001b[0m \u001b[38;5;28;01mraise\u001b[39;00m exception_class(message, screen, stacktrace)\n",
      "\u001b[1;31mNoSuchElementException\u001b[0m: Message: no such element: Unable to locate element: {\"method\":\"xpath\",\"selector\":\"//path[@id='eEc3pd17wrs3']\"}\n  (Session info: MicrosoftEdge=133.0.3065.59); For documentation on this error, please visit: https://www.selenium.dev/documentation/webdriver/troubleshooting/errors#no-such-element-exception\nStacktrace:\n\tGetHandleVerifier [0x00007FF7A079E6D5+13397]\n\tMicrosoft::Applications::Events::EventProperty::empty [0x00007FF7A0A2B174+2060308]\n\tMicrosoft::Applications::Events::EventProperty::empty [0x00007FF7A09822D8+1368440]\n\t(No symbol) [0x00007FF7A0573219]\n\t(No symbol) [0x00007FF7A057340B]\n\t(No symbol) [0x00007FF7A05B4057]\n\t(No symbol) [0x00007FF7A059420F]\n\t(No symbol) [0x00007FF7A05695BD]\n\t(No symbol) [0x00007FF7A05B1B70]\n\t(No symbol) [0x00007FF7A0593F33]\n\t(No symbol) [0x00007FF7A0568B06]\n\t(No symbol) [0x00007FF7A0567DC0]\n\t(No symbol) [0x00007FF7A0568933]\n\t(No symbol) [0x00007FF7A05F0184]\n\t(No symbol) [0x00007FF7A068063F]\n\t(No symbol) [0x00007FF7A05F39C3]\n\tMicrosoft::Applications::Events::EventProperty::to_string [0x00007FF7A0AE457D+279981]\n\tsimdutf::get_active_implementation [0x00007FF7A07277D1+409489]\n\tsimdutf::get_active_implementation [0x00007FF7A0722AB4+389748]\n\tsimdutf::get_active_implementation [0x00007FF7A0722BF9+390073]\n\tsimdutf::get_active_implementation [0x00007FF7A07161F6+338358]\n\tBaseThreadInitThunk [0x00007FF9A6C77374+20]\n\tRtlUserThreadStart [0x00007FF9A809CC91+33]\n"
     ]
    }
   ],
   "source": [
    "element =  driver.find_element(By.XPATH, \"//path[@id='eEc3pd17wrs3']\") "
   ]
  }
 ],
 "metadata": {
  "kernelspec": {
   "display_name": "env",
   "language": "python",
   "name": "python3"
  },
  "language_info": {
   "codemirror_mode": {
    "name": "ipython",
    "version": 3
   },
   "file_extension": ".py",
   "mimetype": "text/x-python",
   "name": "python",
   "nbconvert_exporter": "python",
   "pygments_lexer": "ipython3",
   "version": "3.13.1"
  }
 },
 "nbformat": 4,
 "nbformat_minor": 2
}
