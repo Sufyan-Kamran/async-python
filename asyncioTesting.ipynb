{
 "cells": [
  {
   "cell_type": "code",
   "execution_count": 12,
   "metadata": {},
   "outputs": [
    {
     "name": "stdout",
     "output_type": "stream",
     "text": [
      "new function\n",
      "new function\n"
     ]
    },
    {
     "ename": "TypeError",
     "evalue": "An asyncio.Future, a coroutine or an awaitable is required",
     "output_type": "error",
     "traceback": [
      "\u001b[1;31m---------------------------------------------------------------------------\u001b[0m",
      "\u001b[1;31mTypeError\u001b[0m                                 Traceback (most recent call last)",
      "Cell \u001b[1;32mIn[12], line 13\u001b[0m\n\u001b[0;32m     11\u001b[0m \u001b[38;5;28;01mdef\u001b[39;00m\u001b[38;5;250m \u001b[39m\u001b[38;5;21mc\u001b[39m():\n\u001b[0;32m     12\u001b[0m     asyncio\u001b[38;5;241m.\u001b[39mgather(watingFunc(),newfunc())\n\u001b[1;32m---> 13\u001b[0m asyncio\u001b[38;5;241m.\u001b[39mrun(\u001b[43mc\u001b[49m\u001b[43m(\u001b[49m\u001b[43m)\u001b[49m)\n",
      "Cell \u001b[1;32mIn[12], line 12\u001b[0m, in \u001b[0;36mc\u001b[1;34m()\u001b[0m\n\u001b[0;32m     11\u001b[0m \u001b[38;5;28;01mdef\u001b[39;00m\u001b[38;5;250m \u001b[39m\u001b[38;5;21mc\u001b[39m():\n\u001b[1;32m---> 12\u001b[0m     \u001b[43masyncio\u001b[49m\u001b[38;5;241;43m.\u001b[39;49m\u001b[43mgather\u001b[49m\u001b[43m(\u001b[49m\u001b[43mwatingFunc\u001b[49m\u001b[43m(\u001b[49m\u001b[43m)\u001b[49m\u001b[43m,\u001b[49m\u001b[43mnewfunc\u001b[49m\u001b[43m(\u001b[49m\u001b[43m)\u001b[49m\u001b[43m)\u001b[49m\n",
      "File \u001b[1;32m~\\AppData\\Local\\Programs\\Python\\Python313\\Lib\\asyncio\\tasks.py:884\u001b[0m, in \u001b[0;36mgather\u001b[1;34m(return_exceptions, *coros_or_futures)\u001b[0m\n\u001b[0;32m    882\u001b[0m \u001b[38;5;28;01mfor\u001b[39;00m arg \u001b[38;5;129;01min\u001b[39;00m coros_or_futures:\n\u001b[0;32m    883\u001b[0m     \u001b[38;5;28;01mif\u001b[39;00m arg \u001b[38;5;129;01mnot\u001b[39;00m \u001b[38;5;129;01min\u001b[39;00m arg_to_fut:\n\u001b[1;32m--> 884\u001b[0m         fut \u001b[38;5;241m=\u001b[39m \u001b[43mensure_future\u001b[49m\u001b[43m(\u001b[49m\u001b[43marg\u001b[49m\u001b[43m,\u001b[49m\u001b[43m \u001b[49m\u001b[43mloop\u001b[49m\u001b[38;5;241;43m=\u001b[39;49m\u001b[43mloop\u001b[49m\u001b[43m)\u001b[49m\n\u001b[0;32m    885\u001b[0m         \u001b[38;5;28;01mif\u001b[39;00m loop \u001b[38;5;129;01mis\u001b[39;00m \u001b[38;5;28;01mNone\u001b[39;00m:\n\u001b[0;32m    886\u001b[0m             loop \u001b[38;5;241m=\u001b[39m futures\u001b[38;5;241m.\u001b[39m_get_loop(fut)\n",
      "File \u001b[1;32m~\\AppData\\Local\\Programs\\Python\\Python313\\Lib\\asyncio\\tasks.py:742\u001b[0m, in \u001b[0;36mensure_future\u001b[1;34m(coro_or_future, loop)\u001b[0m\n\u001b[0;32m    740\u001b[0m         should_close \u001b[38;5;241m=\u001b[39m \u001b[38;5;28;01mFalse\u001b[39;00m\n\u001b[0;32m    741\u001b[0m     \u001b[38;5;28;01melse\u001b[39;00m:\n\u001b[1;32m--> 742\u001b[0m         \u001b[38;5;28;01mraise\u001b[39;00m \u001b[38;5;167;01mTypeError\u001b[39;00m(\u001b[38;5;124m'\u001b[39m\u001b[38;5;124mAn asyncio.Future, a coroutine or an awaitable \u001b[39m\u001b[38;5;124m'\u001b[39m\n\u001b[0;32m    743\u001b[0m                         \u001b[38;5;124m'\u001b[39m\u001b[38;5;124mis required\u001b[39m\u001b[38;5;124m'\u001b[39m)\n\u001b[0;32m    745\u001b[0m \u001b[38;5;28;01mif\u001b[39;00m loop \u001b[38;5;129;01mis\u001b[39;00m \u001b[38;5;28;01mNone\u001b[39;00m:\n\u001b[0;32m    746\u001b[0m     loop \u001b[38;5;241m=\u001b[39m events\u001b[38;5;241m.\u001b[39mget_event_loop()\n",
      "\u001b[1;31mTypeError\u001b[0m: An asyncio.Future, a coroutine or an awaitable is required"
     ]
    },
    {
     "name": "stdout",
     "output_type": "stream",
     "text": [
      "ehllo\n"
     ]
    }
   ],
   "source": [
    "import asyncio \n",
    "\n",
    "async def newfunc():\n",
    "    print('hello')\n",
    "    await asyncio.sleep(3)\n",
    "    print('world')\n",
    "\n",
    "asyncio.run(newfunc())\n"
   ]
  }
 ],
 "metadata": {
  "kernelspec": {
   "display_name": "env",
   "language": "python",
   "name": "python3"
  },
  "language_info": {
   "codemirror_mode": {
    "name": "ipython",
    "version": 3
   },
   "file_extension": ".py",
   "mimetype": "text/x-python",
   "name": "python",
   "nbconvert_exporter": "python",
   "pygments_lexer": "ipython3",
   "version": "3.13.1"
  }
 },
 "nbformat": 4,
 "nbformat_minor": 2
}
